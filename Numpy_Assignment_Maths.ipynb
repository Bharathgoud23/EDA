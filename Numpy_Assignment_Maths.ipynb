{
 "cells": [
  {
   "cell_type": "markdown",
   "id": "d0cd8114-18fb-4f74-afa2-e028518bf96d",
   "metadata": {},
   "source": [
    "1) Create two 1D NumPy arrays:\n",
    "\n",
    "         a = [1, 2] and b = [4, 6]\n",
    "\n",
    "\n",
    "Calculate Euclidean Distance between them\n",
    "\n",
    "\n",
    "Calculate Manhattan Distance\n",
    "\n",
    "\n",
    "Calculate Cosine Similarity\n",
    "\n",
    " 2) Write a function cosine_similarity(vec1, vec2) using only NumPy.\n",
    " \n",
    " 3) Given a list of 2D points [[1,1], [2,3], [3,5], [6,8]], calculate pairwise Euclidean distance matrix."
   ]
  },
  {
   "cell_type": "code",
   "execution_count": 6,
   "id": "e0d4ea59-0fd7-4b7b-b218-790e27f972df",
   "metadata": {},
   "outputs": [
    {
     "data": {
      "text/plain": [
       "(1, 1)"
      ]
     },
     "execution_count": 6,
     "metadata": {},
     "output_type": "execute_result"
    }
   ],
   "source": [
    "import numpy as np\n",
    "a=[1,2]\n",
    "b=[4,6]\n",
    "arr1= np.array(a)\n",
    "arr2=np.array(b)\n",
    "arr1.ndim,arr2.ndim"
   ]
  },
  {
   "cell_type": "code",
   "execution_count": 8,
   "id": "f0405629-f238-450a-844d-616e01ab3482",
   "metadata": {},
   "outputs": [
    {
     "name": "stdout",
     "output_type": "stream",
     "text": [
      "5.0\n"
     ]
    }
   ],
   "source": [
    "# Euclidean Distance \n",
    "dist = np.sqrt(np.sum(np.square(arr1-arr2)))\n",
    "print(dist)"
   ]
  },
  {
   "cell_type": "code",
   "execution_count": 22,
   "id": "e2ae23f7-5764-4b1b-8603-e20bcdb7bcb5",
   "metadata": {},
   "outputs": [
    {
     "name": "stdout",
     "output_type": "stream",
     "text": [
      "7\n"
     ]
    }
   ],
   "source": [
    "# Manhattan distance\n",
    "manhattan_dist = np.sum(np.abs(arr1-arr2))\n",
    "print(manhattan_dist)"
   ]
  },
  {
   "cell_type": "code",
   "execution_count": 20,
   "id": "5de2a505-e6ea-4596-b3e5-bfaefb5f26d3",
   "metadata": {},
   "outputs": [
    {
     "name": "stdout",
     "output_type": "stream",
     "text": [
      "0.9922778767136677\n"
     ]
    }
   ],
   "source": [
    "# cosine similarity\n",
    "num = np.sum(arr1*arr2)\n",
    "denom = np.sqrt(np.sum(np.square(arr1))) * np.sqrt(np.sum(np.square(arr2)))\n",
    "cosine_similarity = num/denom\n",
    "print(cosine_similarity)"
   ]
  },
  {
   "cell_type": "code",
   "execution_count": 28,
   "id": "ea88c0fd-fae7-48fc-ae50-f2b83f17e768",
   "metadata": {},
   "outputs": [
    {
     "data": {
      "text/plain": [
       "0.9922778767136677"
      ]
     },
     "execution_count": 28,
     "metadata": {},
     "output_type": "execute_result"
    }
   ],
   "source": [
    "# 2 cosine similarity using only numpy\n",
    "def cosine_similarity(vec1, vec2):\n",
    "    vec1=np.array(vec1)\n",
    "    vec2=np.array(vec2)\n",
    "    dot_product = np.dot(vec1,vec2)\n",
    "    denom = (np.linalg.norm(vec1))* (np.linalg.norm(vec2))\n",
    "    cosine_sim = dot_product/denom\n",
    "    return cosine_sim\n",
    "\n",
    "cosine_similarity([1,2],[4,6])"
   ]
  },
  {
   "cell_type": "code",
   "execution_count": 32,
   "id": "9b7bec02-ff49-4f79-9871-d92a327de4f0",
   "metadata": {},
   "outputs": [
    {
     "name": "stdout",
     "output_type": "stream",
     "text": [
      "0.0\n",
      "2.23606797749979\n",
      "4.47213595499958\n",
      "8.602325267042627\n",
      "2.23606797749979\n",
      "0.0\n",
      "2.23606797749979\n",
      "6.4031242374328485\n",
      "4.47213595499958\n",
      "2.23606797749979\n",
      "0.0\n",
      "4.242640687119285\n",
      "8.602325267042627\n",
      "6.4031242374328485\n",
      "4.242640687119285\n",
      "0.0\n"
     ]
    }
   ],
   "source": [
    "# 3 \n",
    "l = [[1,1], [2,3], [3,5], [6,8]]\n",
    "arr1=np.array(l)\n",
    "n=len(arr1)\n",
    "for i in range(n):\n",
    "    for j in range(n):\n",
    "        pairwise_dist= np.sqrt(np.sum(np.square(arr1[i]-arr1[j])))\n",
    "        print(pairwise_dist)"
   ]
  },
  {
   "cell_type": "code",
   "execution_count": null,
   "id": "db3fd3ae-62af-4e93-9ef3-b8c97f2ba6d4",
   "metadata": {},
   "outputs": [],
   "source": []
  }
 ],
 "metadata": {
  "kernelspec": {
   "display_name": "Python [conda env:base] *",
   "language": "python",
   "name": "conda-base-py"
  },
  "language_info": {
   "codemirror_mode": {
    "name": "ipython",
    "version": 3
   },
   "file_extension": ".py",
   "mimetype": "text/x-python",
   "name": "python",
   "nbconvert_exporter": "python",
   "pygments_lexer": "ipython3",
   "version": "3.12.7"
  }
 },
 "nbformat": 4,
 "nbformat_minor": 5
}
