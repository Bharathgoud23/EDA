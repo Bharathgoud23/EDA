{
 "cells": [
  {
   "cell_type": "markdown",
   "id": "733c556a-3878-4da5-981d-d67f9e628472",
   "metadata": {},
   "source": [
    "-Always question yourself\n",
    "\n",
    "    - How can we do vector operations\n",
    "    \n",
    "    - How can we do matrix operations\n",
    "    \n",
    "    - How can we do Linear algebra operations\n",
    "    \n",
    "    - Then the answer is Numpy\n",
    "    \n",
    "- In Numpy elemennts represent in arrays\n",
    "- \n",
    "- Every array has dimension which means its an axis"
   ]
  },
  {
   "cell_type": "code",
   "execution_count": 3,
   "id": "f92447e6-34aa-482b-9403-c125781e1dc4",
   "metadata": {},
   "outputs": [
    {
     "data": {
      "text/plain": [
       "array([10, 20, 30, 40])"
      ]
     },
     "execution_count": 3,
     "metadata": {},
     "output_type": "execute_result"
    }
   ],
   "source": [
    "import numpy as np\n",
    "l1=[10,20,30,40]\n",
    "arr1=np.array(l1)\n",
    "arr1"
   ]
  },
  {
   "cell_type": "code",
   "execution_count": 5,
   "id": "a2e077f9-0d47-410d-a2e4-a277fdd0c5fd",
   "metadata": {},
   "outputs": [
    {
     "data": {
      "text/plain": [
       "numpy.ndarray"
      ]
     },
     "execution_count": 5,
     "metadata": {},
     "output_type": "execute_result"
    }
   ],
   "source": [
    "type(arr1)"
   ]
  },
  {
   "cell_type": "markdown",
   "id": "331c1e84-66ef-4e0c-8e68-71f77bf48bb2",
   "metadata": {},
   "source": [
    "- numpy n dimensional array (numpy. ndarray)"
   ]
  },
  {
   "cell_type": "code",
   "execution_count": 8,
   "id": "df7b71b5-e1b7-4e43-8c06-8927837a7ea7",
   "metadata": {},
   "outputs": [
    {
     "data": {
      "text/plain": [
       "1"
      ]
     },
     "execution_count": 8,
     "metadata": {},
     "output_type": "execute_result"
    }
   ],
   "source": [
    "arr1.ndim\n",
    "# ndim indicates how many dimensions are present"
   ]
  },
  {
   "cell_type": "code",
   "execution_count": 10,
   "id": "e0302556-94d8-41c8-88b3-8c688a3496c5",
   "metadata": {},
   "outputs": [
    {
     "data": {
      "text/plain": [
       "(4,)"
      ]
     },
     "execution_count": 10,
     "metadata": {},
     "output_type": "execute_result"
    }
   ],
   "source": [
    "arr1.shape #rows,"
   ]
  },
  {
   "cell_type": "code",
   "execution_count": 12,
   "id": "9083c65c-0663-4dd3-bec6-f5c1082f17b0",
   "metadata": {},
   "outputs": [
    {
     "data": {
      "text/plain": [
       "4"
      ]
     },
     "execution_count": 12,
     "metadata": {},
     "output_type": "execute_result"
    }
   ],
   "source": [
    "arr1.size # how many elements"
   ]
  },
  {
   "cell_type": "code",
   "execution_count": 16,
   "id": "05de75b1-52a3-4d2d-af16-3fa5e36c8ce1",
   "metadata": {},
   "outputs": [
    {
     "name": "stdout",
     "output_type": "stream",
     "text": [
      "[10 20 30 40]\n",
      "1\n",
      "(4,)\n",
      "4\n"
     ]
    }
   ],
   "source": [
    "import numpy as np\n",
    "l1=[10,20,30,40]\n",
    "arr1=np.array(l1)\n",
    "print(arr1)\n",
    "print(arr1.ndim) # axis\n",
    "print(arr1.shape)\n",
    "print(arr1.size)\n"
   ]
  },
  {
   "cell_type": "code",
   "execution_count": 20,
   "id": "bd98f9a8-68b7-4e64-bf9a-f578457ac7e0",
   "metadata": {},
   "outputs": [
    {
     "ename": "TypeError",
     "evalue": "Field elements must be 2- or 3-tuples, got '1'",
     "output_type": "error",
     "traceback": [
      "\u001b[1;31m---------------------------------------------------------------------------\u001b[0m",
      "\u001b[1;31mTypeError\u001b[0m                                 Traceback (most recent call last)",
      "Cell \u001b[1;32mIn[20], line 6\u001b[0m\n\u001b[0;32m      3\u001b[0m l2\u001b[38;5;241m=\u001b[39m[\u001b[38;5;241m1\u001b[39m,\u001b[38;5;241m2\u001b[39m,\u001b[38;5;241m3\u001b[39m,\u001b[38;5;241m4\u001b[39m]\n\u001b[0;32m      4\u001b[0m \u001b[38;5;66;03m# 2d means 2 lists\u001b[39;00m\n\u001b[0;32m      5\u001b[0m \u001b[38;5;66;03m# l1,l2 : [l1,l2]\u001b[39;00m\n\u001b[1;32m----> 6\u001b[0m np\u001b[38;5;241m.\u001b[39marray(l1,l2)\n",
      "\u001b[1;31mTypeError\u001b[0m: Field elements must be 2- or 3-tuples, got '1'"
     ]
    }
   ],
   "source": [
    "import numpy as np\n",
    "l1=[10,20,30,40]\n",
    "l2=[1,2,3,4]\n",
    "# 2d means 2 lists\n",
    "# l1,l2 : [l1,l2]\n",
    "np.array(l1,l2) # error (l1,l2 is not combined - it should be [l1,l2]-->(x,y)"
   ]
  },
  {
   "cell_type": "code",
   "execution_count": 26,
   "id": "a25a16a1-f108-49cf-a6d2-debf61480082",
   "metadata": {},
   "outputs": [
    {
     "data": {
      "text/plain": [
       "array([[10, 20, 30, 40],\n",
       "       [ 1,  2,  3,  4]])"
      ]
     },
     "execution_count": 26,
     "metadata": {},
     "output_type": "execute_result"
    }
   ],
   "source": [
    "import numpy as np\n",
    "l1=[10,20,30,40]\n",
    "l2=[1,2,3,4]\n",
    "# 2d means 2 lists\n",
    "# l1,l2 : [l1,l2]\n",
    "arr2d=np.array([l1,l2]) # error (l1,l2 is not combined\n",
    "arr2d"
   ]
  },
  {
   "cell_type": "code",
   "execution_count": 28,
   "id": "73b2a341-1651-4128-8d8d-d5e8737c6d45",
   "metadata": {},
   "outputs": [
    {
     "data": {
      "text/plain": [
       "2"
      ]
     },
     "execution_count": 28,
     "metadata": {},
     "output_type": "execute_result"
    }
   ],
   "source": [
    "arr2d.ndim"
   ]
  },
  {
   "cell_type": "code",
   "execution_count": 30,
   "id": "f6b20f78-b621-4b8b-ba23-e5c01b35418c",
   "metadata": {},
   "outputs": [
    {
     "data": {
      "text/plain": [
       "(2, 4)"
      ]
     },
     "execution_count": 30,
     "metadata": {},
     "output_type": "execute_result"
    }
   ],
   "source": [
    "arr2d.shape"
   ]
  },
  {
   "cell_type": "code",
   "execution_count": 32,
   "id": "b08ae3cc-116e-4a66-9d01-52d35e37d100",
   "metadata": {},
   "outputs": [
    {
     "data": {
      "text/plain": [
       "8"
      ]
     },
     "execution_count": 32,
     "metadata": {},
     "output_type": "execute_result"
    }
   ],
   "source": [
    "arr2d.size"
   ]
  },
  {
   "cell_type": "code",
   "execution_count": 40,
   "id": "eb747d6f-1afa-4137-8344-ab9556e28424",
   "metadata": {},
   "outputs": [
    {
     "data": {
      "text/plain": [
       "array([[[10, 20, 30, 40],\n",
       "        [ 1,  2,  3,  4]]])"
      ]
     },
     "execution_count": 40,
     "metadata": {},
     "output_type": "execute_result"
    }
   ],
   "source": [
    "import numpy as np\n",
    "l1=[10,20,30,40]\n",
    "l2=[1,2,3,4]\n",
    "# 2d means 2 lists\n",
    "# l1,l2 : [l1,l2]\n",
    "arr3d=np.array([[l1,l2]]) #- now extra sqr brackets that means 3dimensiion\n",
    "arr3d"
   ]
  },
  {
   "cell_type": "code",
   "execution_count": 42,
   "id": "bc6b3bfa-573f-4461-99fd-e60221fc4358",
   "metadata": {},
   "outputs": [
    {
     "name": "stdout",
     "output_type": "stream",
     "text": [
      "3\n",
      "(1, 2, 4)\n",
      "8\n"
     ]
    }
   ],
   "source": [
    "print(arr3d.ndim)\n",
    "print(arr3d.shape)\n",
    "print(arr3d.size)"
   ]
  },
  {
   "cell_type": "markdown",
   "id": "c99f8993-caa4-4971-81a2-b80889b01d6c",
   "metadata": {},
   "source": [
    "dim     shape\n",
    "1        m,\n",
    "2        m,n\n",
    "3        l,m,n"
   ]
  },
  {
   "cell_type": "code",
   "execution_count": null,
   "id": "47617c48-4222-4cfa-a43b-4090d85dcd51",
   "metadata": {},
   "outputs": [],
   "source": [
    "np.array([1,2,3])  # 3,\n",
    "np.array([[1,2,3]])  # 2,4\n",
    "np.array([[[1,2,3]]]) #  1,2,4\n"
   ]
  },
  {
   "cell_type": "code",
   "execution_count": null,
   "id": "05e7824c-7e33-4c09-b5ec-a5509ea64d75",
   "metadata": {},
   "outputs": [],
   "source": [
    "l,m,n : 2,2,4\n",
    "- n indicates how many elements we have in a list\n",
    "- n=4 means list has 4 elements : [10,20,30,40]\n",
    "- m indiactes how many lists are available\n",
    "- m=2 means 2 lists are available\n",
    "- each list has 4 vaues\n",
    "-one list name is :l1\n",
    "- another list is :l2\n",
    "- m:[l1,l2]\n",
    "\n",
    "- l indicates how many m's that is how many combination of m's are avaiiable\n",
    "- l=2 means there are 2 m's available \n",
    "- m: [l1,l2]\n",
    "l= [[l1,l2],[l1,l2]]"
   ]
  },
  {
   "cell_type": "code",
   "execution_count": 45,
   "id": "f17e62b6-d92d-4bd5-a9e9-28841981daf9",
   "metadata": {},
   "outputs": [
    {
     "name": "stdout",
     "output_type": "stream",
     "text": [
      "[[10 20 30 40]\n",
      " [20 30 40 50]]\n",
      "(2, 4)\n"
     ]
    }
   ],
   "source": [
    "import numpy as np\n",
    "l1=[10,20,30,40]\n",
    "l2=[20,30,40,50]\n",
    "arr1 = np.array([l1,l2]) # shape  gives , n=4, m= 2(l1,l2), l=1 m\n",
    "print(arr1)\n",
    "print(arr1.shape)"
   ]
  },
  {
   "cell_type": "code",
   "execution_count": 47,
   "id": "58b7865f-c41b-4f47-924f-cd5628bbb2bc",
   "metadata": {},
   "outputs": [
    {
     "name": "stdout",
     "output_type": "stream",
     "text": [
      "[[[10 20 30 40]\n",
      "  [20 30 40 50]]]\n",
      "(1, 2, 4)\n"
     ]
    }
   ],
   "source": [
    "import numpy as np\n",
    "l1=[10,20,30,40]\n",
    "l2=[20,30,40,50]\n",
    "arr1 = np.array([[l1,l2]]) # shape  gives , n=4, m= 2(l1,l2), l=1 m\n",
    "print(arr1)\n",
    "print(arr1.shape)"
   ]
  },
  {
   "cell_type": "code",
   "execution_count": 49,
   "id": "4ea464b6-8524-4f92-b2b0-11701492acfc",
   "metadata": {},
   "outputs": [
    {
     "name": "stdout",
     "output_type": "stream",
     "text": [
      "[[[10 20 30 40]\n",
      "  [20 30 40 50]]\n",
      "\n",
      " [[10 20 30 40]\n",
      "  [20 30 40 50]]]\n",
      "(2, 2, 4)\n"
     ]
    }
   ],
   "source": [
    "import numpy as np\n",
    "l1=[10,20,30,40]\n",
    "l2=[20,30,40,50]\n",
    "arr1 = np.array([[l1,l2],[l1,l2]]) # shape  gives , n=4, m= 2(l1,l2), l=2 m\n",
    "print(arr1)\n",
    "print(arr1.shape)"
   ]
  },
  {
   "cell_type": "code",
   "execution_count": 51,
   "id": "b20709fc-af36-438b-a48b-404ef2283089",
   "metadata": {},
   "outputs": [
    {
     "name": "stdout",
     "output_type": "stream",
     "text": [
      "[[[10 20 30 40]\n",
      "  [20 30 40 50]]\n",
      "\n",
      " [[10 20 30 40]\n",
      "  [20 30 40 50]]\n",
      "\n",
      " [[10 20 30 40]\n",
      "  [20 30 40 50]]]\n",
      "(3, 2, 4)\n"
     ]
    }
   ],
   "source": [
    "import numpy as np\n",
    "l1=[10,20,30,40]\n",
    "l2=[20,30,40,50]\n",
    "arr1 = np.array([[l1,l2],[l1,l2],[l1,l2]]) # shape  gives , n=4, m= 2(l1,l2), l=3 m\n",
    "print(arr1)\n",
    "print(arr1.shape)"
   ]
  },
  {
   "cell_type": "code",
   "execution_count": 55,
   "id": "db605ae4-1299-4c5f-992c-9609bc89a81a",
   "metadata": {},
   "outputs": [
    {
     "name": "stdout",
     "output_type": "stream",
     "text": [
      "[[[[10 20 30 40]\n",
      "   [20 30 40 50]]\n",
      "\n",
      "  [[10 20 30 40]\n",
      "   [20 30 40 50]]\n",
      "\n",
      "  [[10 20 30 40]\n",
      "   [20 30 40 50]]]\n",
      "\n",
      "\n",
      " [[[10 20 30 40]\n",
      "   [20 30 40 50]]\n",
      "\n",
      "  [[10 20 30 40]\n",
      "   [20 30 40 50]]\n",
      "\n",
      "  [[10 20 30 40]\n",
      "   [20 30 40 50]]]\n",
      "\n",
      "\n",
      " [[[10 20 30 40]\n",
      "   [20 30 40 50]]\n",
      "\n",
      "  [[10 20 30 40]\n",
      "   [20 30 40 50]]\n",
      "\n",
      "  [[10 20 30 40]\n",
      "   [20 30 40 50]]]\n",
      "\n",
      "\n",
      " [[[10 20 30 40]\n",
      "   [20 30 40 50]]\n",
      "\n",
      "  [[10 20 30 40]\n",
      "   [20 30 40 50]]\n",
      "\n",
      "  [[10 20 30 40]\n",
      "   [20 30 40 50]]]]\n",
      "(4, 3, 2, 4)\n"
     ]
    }
   ],
   "source": [
    "import numpy as np\n",
    "l1=[10,20,30,40]\n",
    "l2=[20,30,40,50]\n",
    "arr1 = np.array([[[l1,l2],[l1,l2],[l1,l2]],[[l1,l2],[l1,l2],[l1,l2]],[[l1,l2],[l1,l2],[l1,l2]],[[l1,l2],[l1,l2],[l1,l2]]]) # shape  gives , n=4, m= 2(l1,l2), l=3 m , k-4\n",
    "print(arr1)\n",
    "print(arr1.shape)"
   ]
  },
  {
   "cell_type": "code",
   "execution_count": 61,
   "id": "a947eecb-d37c-44ab-bef2-e24ed6efb4ab",
   "metadata": {},
   "outputs": [
    {
     "name": "stdout",
     "output_type": "stream",
     "text": [
      "[[[[[10 20 30 40]\n",
      "    [20 30 40 50]]\n",
      "\n",
      "   [[10 20 30 40]\n",
      "    [20 30 40 50]]\n",
      "\n",
      "   [[10 20 30 40]\n",
      "    [20 30 40 50]]]\n",
      "\n",
      "\n",
      "  [[[10 20 30 40]\n",
      "    [20 30 40 50]]\n",
      "\n",
      "   [[10 20 30 40]\n",
      "    [20 30 40 50]]\n",
      "\n",
      "   [[10 20 30 40]\n",
      "    [20 30 40 50]]]\n",
      "\n",
      "\n",
      "  [[[10 20 30 40]\n",
      "    [20 30 40 50]]\n",
      "\n",
      "   [[10 20 30 40]\n",
      "    [20 30 40 50]]\n",
      "\n",
      "   [[10 20 30 40]\n",
      "    [20 30 40 50]]]\n",
      "\n",
      "\n",
      "  [[[10 20 30 40]\n",
      "    [20 30 40 50]]\n",
      "\n",
      "   [[10 20 30 40]\n",
      "    [20 30 40 50]]\n",
      "\n",
      "   [[10 20 30 40]\n",
      "    [20 30 40 50]]]]\n",
      "\n",
      "\n",
      "\n",
      " [[[[10 20 30 40]\n",
      "    [20 30 40 50]]\n",
      "\n",
      "   [[10 20 30 40]\n",
      "    [20 30 40 50]]\n",
      "\n",
      "   [[10 20 30 40]\n",
      "    [20 30 40 50]]]\n",
      "\n",
      "\n",
      "  [[[10 20 30 40]\n",
      "    [20 30 40 50]]\n",
      "\n",
      "   [[10 20 30 40]\n",
      "    [20 30 40 50]]\n",
      "\n",
      "   [[10 20 30 40]\n",
      "    [20 30 40 50]]]\n",
      "\n",
      "\n",
      "  [[[10 20 30 40]\n",
      "    [20 30 40 50]]\n",
      "\n",
      "   [[10 20 30 40]\n",
      "    [20 30 40 50]]\n",
      "\n",
      "   [[10 20 30 40]\n",
      "    [20 30 40 50]]]\n",
      "\n",
      "\n",
      "  [[[10 20 30 40]\n",
      "    [20 30 40 50]]\n",
      "\n",
      "   [[10 20 30 40]\n",
      "    [20 30 40 50]]\n",
      "\n",
      "   [[10 20 30 40]\n",
      "    [20 30 40 50]]]]\n",
      "\n",
      "\n",
      "\n",
      " [[[[10 20 30 40]\n",
      "    [20 30 40 50]]\n",
      "\n",
      "   [[10 20 30 40]\n",
      "    [20 30 40 50]]\n",
      "\n",
      "   [[10 20 30 40]\n",
      "    [20 30 40 50]]]\n",
      "\n",
      "\n",
      "  [[[10 20 30 40]\n",
      "    [20 30 40 50]]\n",
      "\n",
      "   [[10 20 30 40]\n",
      "    [20 30 40 50]]\n",
      "\n",
      "   [[10 20 30 40]\n",
      "    [20 30 40 50]]]\n",
      "\n",
      "\n",
      "  [[[10 20 30 40]\n",
      "    [20 30 40 50]]\n",
      "\n",
      "   [[10 20 30 40]\n",
      "    [20 30 40 50]]\n",
      "\n",
      "   [[10 20 30 40]\n",
      "    [20 30 40 50]]]\n",
      "\n",
      "\n",
      "  [[[10 20 30 40]\n",
      "    [20 30 40 50]]\n",
      "\n",
      "   [[10 20 30 40]\n",
      "    [20 30 40 50]]\n",
      "\n",
      "   [[10 20 30 40]\n",
      "    [20 30 40 50]]]]\n",
      "\n",
      "\n",
      "\n",
      " [[[[10 20 30 40]\n",
      "    [20 30 40 50]]\n",
      "\n",
      "   [[10 20 30 40]\n",
      "    [20 30 40 50]]\n",
      "\n",
      "   [[10 20 30 40]\n",
      "    [20 30 40 50]]]\n",
      "\n",
      "\n",
      "  [[[10 20 30 40]\n",
      "    [20 30 40 50]]\n",
      "\n",
      "   [[10 20 30 40]\n",
      "    [20 30 40 50]]\n",
      "\n",
      "   [[10 20 30 40]\n",
      "    [20 30 40 50]]]\n",
      "\n",
      "\n",
      "  [[[10 20 30 40]\n",
      "    [20 30 40 50]]\n",
      "\n",
      "   [[10 20 30 40]\n",
      "    [20 30 40 50]]\n",
      "\n",
      "   [[10 20 30 40]\n",
      "    [20 30 40 50]]]\n",
      "\n",
      "\n",
      "  [[[10 20 30 40]\n",
      "    [20 30 40 50]]\n",
      "\n",
      "   [[10 20 30 40]\n",
      "    [20 30 40 50]]\n",
      "\n",
      "   [[10 20 30 40]\n",
      "    [20 30 40 50]]]]\n",
      "\n",
      "\n",
      "\n",
      " [[[[10 20 30 40]\n",
      "    [20 30 40 50]]\n",
      "\n",
      "   [[10 20 30 40]\n",
      "    [20 30 40 50]]\n",
      "\n",
      "   [[10 20 30 40]\n",
      "    [20 30 40 50]]]\n",
      "\n",
      "\n",
      "  [[[10 20 30 40]\n",
      "    [20 30 40 50]]\n",
      "\n",
      "   [[10 20 30 40]\n",
      "    [20 30 40 50]]\n",
      "\n",
      "   [[10 20 30 40]\n",
      "    [20 30 40 50]]]\n",
      "\n",
      "\n",
      "  [[[10 20 30 40]\n",
      "    [20 30 40 50]]\n",
      "\n",
      "   [[10 20 30 40]\n",
      "    [20 30 40 50]]\n",
      "\n",
      "   [[10 20 30 40]\n",
      "    [20 30 40 50]]]\n",
      "\n",
      "\n",
      "  [[[10 20 30 40]\n",
      "    [20 30 40 50]]\n",
      "\n",
      "   [[10 20 30 40]\n",
      "    [20 30 40 50]]\n",
      "\n",
      "   [[10 20 30 40]\n",
      "    [20 30 40 50]]]]]\n",
      "(5, 4, 3, 2, 4)\n"
     ]
    }
   ],
   "source": [
    "import numpy as np\n",
    "l1=[10,20,30,40]\n",
    "l2=[20,30,40,50]\n",
    "arr1 = np.array([[[[l1,l2],[l1,l2],[l1,l2]],[[l1,l2],[l1,l2],[l1,l2]],[[l1,l2],[l1,l2],[l1,l2]],[[l1,l2],[l1,l2],[l1,l2]]],[[[l1,l2],[l1,l2],[l1,l2]],[[l1,l2],[l1,l2],[l1,l2]],[[l1,l2],[l1,l2],[l1,l2]],[[l1,l2],[l1,l2],[l1,l2]]],[[[l1,l2],[l1,l2],[l1,l2]],[[l1,l2],[l1,l2],[l1,l2]],[[l1,l2],[l1,l2],[l1,l2]],[[l1,l2],[l1,l2],[l1,l2]]],[[[l1,l2],[l1,l2],[l1,l2]],[[l1,l2],[l1,l2],[l1,l2]],[[l1,l2],[l1,l2],[l1,l2]],[[l1,l2],[l1,l2],[l1,l2]]],[[[l1,l2],[l1,l2],[l1,l2]],[[l1,l2],[l1,l2],[l1,l2]],[[l1,l2],[l1,l2],[l1,l2]],[[l1,l2],[l1,l2],[l1,l2]]]]) # shape  gives , n=4, m= 2(l1,l2), l=1 m,k-4, j-5 \n",
    "print(arr1)\n",
    "print(arr1.shape)"
   ]
  },
  {
   "cell_type": "code",
   "execution_count": 63,
   "id": "841c7516-8e20-4cab-8bad-4775f02bfdd8",
   "metadata": {},
   "outputs": [
    {
     "data": {
      "text/plain": [
       "array([1, 2, 3, 4])"
      ]
     },
     "execution_count": 63,
     "metadata": {},
     "output_type": "execute_result"
    }
   ],
   "source": [
    "import numpy as np\n",
    "np.array([1,2,3,4])"
   ]
  },
  {
   "cell_type": "code",
   "execution_count": 65,
   "id": "86c171a8-2da4-4285-8b2d-c314166f4be1",
   "metadata": {},
   "outputs": [
    {
     "data": {
      "text/plain": [
       "array([[0., 0., 0.],\n",
       "       [0., 0., 0.],\n",
       "       [0., 0., 0.]])"
      ]
     },
     "execution_count": 65,
     "metadata": {},
     "output_type": "execute_result"
    }
   ],
   "source": [
    "shape=(3,3)\n",
    "np.zeros(shape)"
   ]
  },
  {
   "cell_type": "code",
   "execution_count": 67,
   "id": "202b70d8-a70f-46a2-8262-2164ff81adfb",
   "metadata": {},
   "outputs": [
    {
     "data": {
      "text/plain": [
       "array([[0., 0., 0.],\n",
       "       [0., 0., 0.]])"
      ]
     },
     "execution_count": 67,
     "metadata": {},
     "output_type": "execute_result"
    }
   ],
   "source": [
    "np.zeros((2,3))"
   ]
  },
  {
   "cell_type": "code",
   "execution_count": 71,
   "id": "e80123ff-835f-4116-b63f-649786e2cbb8",
   "metadata": {},
   "outputs": [
    {
     "data": {
      "text/plain": [
       "array([[1., 1., 1.],\n",
       "       [1., 1., 1.],\n",
       "       [1., 1., 1.]])"
      ]
     },
     "execution_count": 71,
     "metadata": {},
     "output_type": "execute_result"
    }
   ],
   "source": [
    "np.ones((3,3)) # shape =(3,3)"
   ]
  },
  {
   "cell_type": "code",
   "execution_count": 77,
   "id": "fcb4f936-18f3-4b34-887c-25697aed8854",
   "metadata": {},
   "outputs": [
    {
     "data": {
      "text/plain": [
       "array([[1., 0., 0.],\n",
       "       [0., 1., 0.],\n",
       "       [0., 0., 1.]])"
      ]
     },
     "execution_count": 77,
     "metadata": {},
     "output_type": "execute_result"
    }
   ],
   "source": [
    "arr1 = np.eye(3) # identity matrix, no shape here, but just give int N--> here 3\n",
    "arr1"
   ]
  },
  {
   "cell_type": "code",
   "execution_count": 79,
   "id": "af22e697-f3fe-4a32-b8ed-b1cff774d7e1",
   "metadata": {},
   "outputs": [
    {
     "data": {
      "text/plain": [
       "array([1., 0., 0., 0., 1., 0., 0., 0., 1.])"
      ]
     },
     "execution_count": 79,
     "metadata": {},
     "output_type": "execute_result"
    }
   ],
   "source": [
    "arr1.flatten()"
   ]
  },
  {
   "cell_type": "code",
   "execution_count": 81,
   "id": "c24f2dda-5987-4834-a1db-3d527a8f5762",
   "metadata": {},
   "outputs": [
    {
     "data": {
      "text/plain": [
       "[1.0, 0.0, 0.0, 0.0, 1.0, 0.0, 0.0, 0.0, 1.0]"
      ]
     },
     "execution_count": 81,
     "metadata": {},
     "output_type": "execute_result"
    }
   ],
   "source": [
    "arr1.flatten().tolist()"
   ]
  },
  {
   "cell_type": "code",
   "execution_count": 83,
   "id": "29d570f6-cded-44ef-a1b1-8f351cdd16c8",
   "metadata": {},
   "outputs": [
    {
     "data": {
      "text/plain": [
       "array([[1., 0., 0.],\n",
       "       [0., 1., 0.],\n",
       "       [0., 0., 1.]])"
      ]
     },
     "execution_count": 83,
     "metadata": {},
     "output_type": "execute_result"
    }
   ],
   "source": [
    "arr1= np.eye(3)\n",
    "arr1.transpose()"
   ]
  },
  {
   "cell_type": "code",
   "execution_count": null,
   "id": "d668c901-7db0-46d5-b16a-fbc8110f1f15",
   "metadata": {},
   "outputs": [],
   "source": [
    "zeros - only zeros\n",
    "\n",
    "eye - Identity\n",
    "\n",
    "what if i want random integer numbers"
   ]
  },
  {
   "cell_type": "code",
   "execution_count": 1,
   "id": "1ef32c3c-24eb-4eee-b906-617264612f9c",
   "metadata": {},
   "outputs": [
    {
     "data": {
      "text/plain": [
       "19"
      ]
     },
     "execution_count": 1,
     "metadata": {},
     "output_type": "execute_result"
    }
   ],
   "source": [
    "import random\n",
    "random.randint(10,20) # 10 to 20\n"
   ]
  },
  {
   "cell_type": "code",
   "execution_count": 3,
   "id": "6d5cb080-d05b-4184-8590-f502404172d5",
   "metadata": {},
   "outputs": [
    {
     "data": {
      "text/plain": [
       "6"
      ]
     },
     "execution_count": 3,
     "metadata": {},
     "output_type": "execute_result"
    }
   ],
   "source": [
    "import numpy as np\n",
    "np.random.randint(10) # 0 to 9"
   ]
  },
  {
   "cell_type": "code",
   "execution_count": 5,
   "id": "01af40f5-1b28-4de3-9416-d7ee14b0b8dc",
   "metadata": {},
   "outputs": [
    {
     "data": {
      "text/plain": [
       "14"
      ]
     },
     "execution_count": 5,
     "metadata": {},
     "output_type": "execute_result"
    }
   ],
   "source": [
    "np.random.randint(10,50)  # 10 to 49"
   ]
  },
  {
   "cell_type": "code",
   "execution_count": 7,
   "id": "1d7e8b53-8a7a-4446-860b-57f2e51cc097",
   "metadata": {},
   "outputs": [
    {
     "data": {
      "text/plain": [
       "array([13, 26, 22, 24, 11])"
      ]
     },
     "execution_count": 7,
     "metadata": {},
     "output_type": "execute_result"
    }
   ],
   "source": [
    "np.random.randint(10,50,size=5)"
   ]
  },
  {
   "cell_type": "code",
   "execution_count": 9,
   "id": "e139c0aa-f372-47fc-9215-e9ef516cee19",
   "metadata": {},
   "outputs": [
    {
     "data": {
      "text/plain": [
       "array([[26, 30, 14],\n",
       "       [27, 46, 22]])"
      ]
     },
     "execution_count": 9,
     "metadata": {},
     "output_type": "execute_result"
    }
   ],
   "source": [
    "shape=(2,3)\n",
    "np.random.randint(10,50,size=shape)"
   ]
  },
  {
   "cell_type": "markdown",
   "id": "f7018823-cf0e-4ef1-b2a6-308f4ffe0bc7",
   "metadata": {},
   "source": [
    "- when we develop ML models we use some data for training and some data for testing\n",
    "\n",
    "- Also we will use multiple models for training and testing\n",
    "\n",
    "- Out of these models which model gives best results that we selected\n",
    "\n",
    "- So we need every model should test on same data\n",
    "\n",
    "- this we can achieve by **np.random.seed()**"
   ]
  },
  {
   "cell_type": "code",
   "execution_count": 14,
   "id": "81ecda16-0650-4c69-a162-26963b3c17e2",
   "metadata": {},
   "outputs": [
    {
     "data": {
      "text/plain": [
       "array([29, 48, 22, 34, 25])"
      ]
     },
     "execution_count": 14,
     "metadata": {},
     "output_type": "execute_result"
    }
   ],
   "source": [
    "np.random.seed(42)\n",
    "np.random.randint(10,50,size=5)\n"
   ]
  },
  {
   "cell_type": "markdown",
   "id": "6281fa61-5971-4fc5-b814-0eaf38fe3c5e",
   "metadata": {},
   "source": [
    "<img id=\"dimg_kH9TaPWuBZ-PseMPtLqjmAM_305\" src=\"data:image/jpeg;base64,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\" class=\"YQ4gaf\" height=\"154\" style=\"object-position:50% 66%\" width=\"328\" alt=\"Mean, Variance and Standard Deviation ...\" data-csiid=\"kH9TaPWuBZ-PseMPtLqjmAM_13\" data-atf=\"8\">"
   ]
  },
  {
   "cell_type": "code",
   "execution_count": null,
   "id": "f3202405-e46d-43f2-adaf-9758298ff1c7",
   "metadata": {},
   "outputs": [],
   "source": []
  }
 ],
 "metadata": {
  "kernelspec": {
   "display_name": "Python [conda env:base] *",
   "language": "python",
   "name": "conda-base-py"
  },
  "language_info": {
   "codemirror_mode": {
    "name": "ipython",
    "version": 3
   },
   "file_extension": ".py",
   "mimetype": "text/x-python",
   "name": "python",
   "nbconvert_exporter": "python",
   "pygments_lexer": "ipython3",
   "version": "3.12.7"
  }
 },
 "nbformat": 4,
 "nbformat_minor": 5
}
