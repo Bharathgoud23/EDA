{
 "cells": [
  {
   "cell_type": "markdown",
   "id": "e66079d9-3f8e-4ea9-8215-8665b4b4e69c",
   "metadata": {},
   "source": [
    "- min\n",
    "\n",
    "- max\n",
    "\n",
    "- mean\n",
    "\n",
    "- median\n",
    "\n",
    "- variance\n",
    "\n",
    "- covariance\n",
    "\n",
    "- correlation\n",
    "\n",
    "- standard deviation\n",
    "\n",
    "- distance btw two points(Delloite)\n",
    "\n",
    "- Roots of an equation\n",
    "\n",
    "- cosine similarity (AI RAG)"
   ]
  },
  {
   "cell_type": "code",
   "execution_count": 1,
   "id": "3f1398c1-c340-4977-9a0e-230167d5a9c2",
   "metadata": {},
   "outputs": [],
   "source": [
    "import numpy as np"
   ]
  },
  {
   "cell_type": "code",
   "execution_count": 3,
   "id": "be1f0cf1-ebc2-460b-8b77-e7c5d0253469",
   "metadata": {},
   "outputs": [],
   "source": [
    "l1=[1,100,2,98,3,95,4,5,120,77] # 1 2 3 4 5 77 95 98 100 120 "
   ]
  },
  {
   "cell_type": "code",
   "execution_count": 5,
   "id": "a35106ef-a035-44db-99b8-b408854554f1",
   "metadata": {},
   "outputs": [
    {
     "data": {
      "text/plain": [
       "1"
      ]
     },
     "execution_count": 5,
     "metadata": {},
     "output_type": "execute_result"
    }
   ],
   "source": [
    "np.min(l1)"
   ]
  },
  {
   "cell_type": "code",
   "execution_count": 9,
   "id": "a5a99b0c-51d6-4ae5-9a2e-b061dab92c60",
   "metadata": {},
   "outputs": [
    {
     "data": {
      "text/plain": [
       "120"
      ]
     },
     "execution_count": 9,
     "metadata": {},
     "output_type": "execute_result"
    }
   ],
   "source": [
    "np.max(l1)"
   ]
  },
  {
   "cell_type": "code",
   "execution_count": 11,
   "id": "22dd797e-3f53-428d-88bc-6e57145b6807",
   "metadata": {},
   "outputs": [
    {
     "data": {
      "text/plain": [
       "50.5"
      ]
     },
     "execution_count": 11,
     "metadata": {},
     "output_type": "execute_result"
    }
   ],
   "source": [
    "np.mean(l1)"
   ]
  },
  {
   "cell_type": "code",
   "execution_count": 13,
   "id": "ccc41205-5739-446f-b9d7-359c5f4d7844",
   "metadata": {},
   "outputs": [
    {
     "data": {
      "text/plain": [
       "41.0"
      ]
     },
     "execution_count": 13,
     "metadata": {},
     "output_type": "execute_result"
    }
   ],
   "source": [
    "np.median(l1)"
   ]
  },
  {
   "cell_type": "code",
   "execution_count": 15,
   "id": "9baf594f-fc04-41f7-8783-9b45b41dad62",
   "metadata": {},
   "outputs": [
    {
     "data": {
      "text/plain": [
       "2351.05"
      ]
     },
     "execution_count": 15,
     "metadata": {},
     "output_type": "execute_result"
    }
   ],
   "source": [
    "np.var(l1)"
   ]
  },
  {
   "cell_type": "code",
   "execution_count": 17,
   "id": "938347e8-4995-4c00-aa40-9d74c953406e",
   "metadata": {},
   "outputs": [
    {
     "data": {
      "text/plain": [
       "array(2612.27777778)"
      ]
     },
     "execution_count": 17,
     "metadata": {},
     "output_type": "execute_result"
    }
   ],
   "source": [
    "np.cov(l1)"
   ]
  },
  {
   "cell_type": "code",
   "execution_count": 19,
   "id": "e82cc18d-6f87-42bb-89a5-5e809fc13b3e",
   "metadata": {},
   "outputs": [
    {
     "ename": "TypeError",
     "evalue": "correlate() missing 1 required positional argument: 'v'",
     "output_type": "error",
     "traceback": [
      "\u001b[1;31m---------------------------------------------------------------------------\u001b[0m",
      "\u001b[1;31mTypeError\u001b[0m                                 Traceback (most recent call last)",
      "Cell \u001b[1;32mIn[19], line 1\u001b[0m\n\u001b[1;32m----> 1\u001b[0m np\u001b[38;5;241m.\u001b[39mcorrelate(l1)\n",
      "\u001b[1;31mTypeError\u001b[0m: correlate() missing 1 required positional argument: 'v'"
     ]
    }
   ],
   "source": [
    "np.correlate(l1)"
   ]
  },
  {
   "cell_type": "code",
   "execution_count": 21,
   "id": "b62e3085-b252-414f-acf4-cde37d7e6d8b",
   "metadata": {},
   "outputs": [
    {
     "data": {
      "text/plain": [
       "505"
      ]
     },
     "execution_count": 21,
     "metadata": {},
     "output_type": "execute_result"
    }
   ],
   "source": [
    "np.sum(l1)"
   ]
  },
  {
   "cell_type": "code",
   "execution_count": 23,
   "id": "0ac431c5-e0d2-4f12-b489-acd7010067ca",
   "metadata": {},
   "outputs": [
    {
     "data": {
      "text/plain": [
       "50.5"
      ]
     },
     "execution_count": 23,
     "metadata": {},
     "output_type": "execute_result"
    }
   ],
   "source": [
    "# mean sum of obser/total\n",
    "np.sum(l1)/len(l1)"
   ]
  },
  {
   "cell_type": "markdown",
   "id": "2e500ac7-9125-4be1-92ce-f6cf1181a2c5",
   "metadata": {},
   "source": [
    "**variance**"
   ]
  },
  {
   "cell_type": "code",
   "execution_count": 26,
   "id": "a4b96a35-a83d-4f0f-94cc-9f1171524ce5",
   "metadata": {},
   "outputs": [
    {
     "data": {
      "text/plain": [
       "2351.05"
      ]
     },
     "execution_count": 26,
     "metadata": {},
     "output_type": "execute_result"
    }
   ],
   "source": [
    "np.var(l1)"
   ]
  },
  {
   "cell_type": "markdown",
   "id": "c65d291e-4621-452a-9e11-6cea183d3f4d",
   "metadata": {},
   "source": [
    "<img id=\"dimg_kH9TaPWuBZ-PseMPtLqjmAM_305\" src=\"data:image/jpeg;base64,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\" class=\"YQ4gaf\" height=\"154\" style=\"object-position:50% 66%\" width=\"328\" alt=\"Mean, Variance and Standard Deviation ...\" data-csiid=\"kH9TaPWuBZ-PseMPtLqjmAM_13\" data-atf=\"8\">"
   ]
  },
  {
   "cell_type": "code",
   "execution_count": null,
   "id": "0c881c28-a85a-439c-ba14-7dc576e7907b",
   "metadata": {},
   "outputs": [],
   "source": [
    "# variance = summation /N --> (l1[i]- mean(l1))^2\n",
    "\n",
    "- step 1- subtract value from mean : xi-xbar\n",
    "- step 2 - square\n",
    "- step 3 - sum of all \n",
    "- divide by N\n"
   ]
  },
  {
   "cell_type": "code",
   "execution_count": 33,
   "id": "5f926a1e-78d8-4db1-a724-27fadbf3a2ae",
   "metadata": {},
   "outputs": [
    {
     "data": {
      "text/plain": [
       "2351.05"
      ]
     },
     "execution_count": 33,
     "metadata": {},
     "output_type": "execute_result"
    }
   ],
   "source": [
    "l1=[1,100,2,98,3,95,4,5,120,77] \n",
    "mean= np.mean(l1)\n",
    "arr1=np.array(l1)\n",
    "step1= arr1-mean\n",
    "step2 = np.square(step1)\n",
    "step3= np.sum(step2)\n",
    "step4= step3/len(l1)\n",
    "step4"
   ]
  },
  {
   "cell_type": "code",
   "execution_count": 35,
   "id": "f5460872-cff8-4a88-8e06-072acfce9344",
   "metadata": {},
   "outputs": [
    {
     "data": {
      "text/plain": [
       "2351.05"
      ]
     },
     "execution_count": 35,
     "metadata": {},
     "output_type": "execute_result"
    }
   ],
   "source": [
    "np.sum(np.square(arr1-mean))/len(l1)"
   ]
  },
  {
   "cell_type": "code",
   "execution_count": null,
   "id": "83f50d41-fee2-48bf-b38e-d65776c94ad5",
   "metadata": {},
   "outputs": [],
   "source": [
    "#covarianec\n",
    "l1=[1,100,2,98,3,95,4,5,120,77] \n",
    "l2 = [\n",
    "mean= np.mean(l1)\n",
    "arr1=np.array(l1)\n",
    "step1= arr1-mean)\n",
    "step2 = np.(step1)\n",
    "step3= np.sum(step2)\n",
    "step4= step3/len(l1)\n",
    "step4"
   ]
  },
  {
   "cell_type": "code",
   "execution_count": null,
   "id": "8195b634-b2a8-407a-881f-e78db7ccd3ab",
   "metadata": {},
   "outputs": [],
   "source": [
    "# standard deviation\n",
    "np.s"
   ]
  },
  {
   "cell_type": "code",
   "execution_count": null,
   "id": "7d88e69b-a5c7-4f1b-a772-a51520bf529c",
   "metadata": {},
   "outputs": [],
   "source": []
  },
  {
   "cell_type": "code",
   "execution_count": null,
   "id": "bd1608cd-1ad1-44d0-8519-e1e6da41ef8b",
   "metadata": {},
   "outputs": [],
   "source": []
  },
  {
   "cell_type": "code",
   "execution_count": null,
   "id": "67f30563-874c-4f42-982f-4d57cad6c85a",
   "metadata": {},
   "outputs": [],
   "source": []
  },
  {
   "cell_type": "markdown",
   "id": "b99a2255-7a99-4d53-9fd3-d0de5c9ecca3",
   "metadata": {},
   "source": [
    "**Distance between two points**"
   ]
  },
  {
   "cell_type": "code",
   "execution_count": 22,
   "id": "320f6f65-35e0-4b59-91d3-9df7762f6f4c",
   "metadata": {},
   "outputs": [
    {
     "name": "stdout",
     "output_type": "stream",
     "text": [
      "Note: you may need to restart the kernel to use updated packages.Collecting opencv-python\n",
      "  Downloading opencv_python-4.11.0.86-cp37-abi3-win_amd64.whl.metadata (20 kB)\n",
      "Requirement already satisfied: numpy>=1.21.2 in c:\\users\\bhara\\anaconda3\\lib\\site-packages (from opencv-python) (1.26.4)\n",
      "Downloading opencv_python-4.11.0.86-cp37-abi3-win_amd64.whl (39.5 MB)\n",
      "   ---------------------------------------- 0.0/39.5 MB ? eta -:--:--\n",
      "   ---------------------------------------- 0.0/39.5 MB ? eta -:--:--\n",
      "   ---------------------------------------- 0.0/39.5 MB ? eta -:--:--\n",
      "   ---------------------------------------- 0.0/39.5 MB ? eta -:--:--\n",
      "   ---------------------------------------- 0.3/39.5 MB ? eta -:--:--\n",
      "    --------------------------------------- 0.5/39.5 MB 1.1 MB/s eta 0:00:35\n",
      "   - -------------------------------------- 1.0/39.5 MB 1.6 MB/s eta 0:00:25\n",
      "   - -------------------------------------- 1.8/39.5 MB 2.2 MB/s eta 0:00:18\n",
      "   --- ------------------------------------ 3.1/39.5 MB 3.0 MB/s eta 0:00:13\n",
      "   ---- ----------------------------------- 4.2/39.5 MB 3.3 MB/s eta 0:00:11\n",
      "   ---- ----------------------------------- 4.5/39.5 MB 3.4 MB/s eta 0:00:11\n",
      "   ---- ----------------------------------- 4.5/39.5 MB 3.4 MB/s eta 0:00:11\n",
      "   ---- ----------------------------------- 4.5/39.5 MB 3.4 MB/s eta 0:00:11\n",
      "   ------- -------------------------------- 7.1/39.5 MB 3.5 MB/s eta 0:00:10\n",
      "   ------- -------------------------------- 7.6/39.5 MB 3.5 MB/s eta 0:00:10\n",
      "   ------- -------------------------------- 7.6/39.5 MB 3.5 MB/s eta 0:00:10\n",
      "   ------- -------------------------------- 7.6/39.5 MB 3.5 MB/s eta 0:00:10\n",
      "   ------- -------------------------------- 7.6/39.5 MB 3.5 MB/s eta 0:00:10\n",
      "   -------- ------------------------------- 8.4/39.5 MB 2.7 MB/s eta 0:00:12\n",
      "   ---------- ----------------------------- 10.0/39.5 MB 3.1 MB/s eta 0:00:10\n",
      "   ----------- ---------------------------- 11.5/39.5 MB 3.2 MB/s eta 0:00:09\n",
      "   -------------- ------------------------- 14.4/39.5 MB 3.7 MB/s eta 0:00:07\n",
      "   -------------- ------------------------- 14.7/39.5 MB 3.7 MB/s eta 0:00:07\n",
      "   -------------- ------------------------- 14.7/39.5 MB 3.7 MB/s eta 0:00:07\n",
      "   ---------------- ----------------------- 16.8/39.5 MB 3.8 MB/s eta 0:00:07\n",
      "   ------------------ --------------------- 17.8/39.5 MB 3.8 MB/s eta 0:00:06\n",
      "   ------------------ --------------------- 18.6/39.5 MB 3.8 MB/s eta 0:00:06\n",
      "   ------------------- -------------------- 19.1/39.5 MB 3.8 MB/s eta 0:00:06\n",
      "   ------------------- -------------------- 19.1/39.5 MB 3.8 MB/s eta 0:00:06\n",
      "   --------------------- ------------------ 21.2/39.5 MB 3.9 MB/s eta 0:00:05\n",
      "   --------------------- ------------------ 21.2/39.5 MB 3.9 MB/s eta 0:00:05\n",
      "   ------------------------ --------------- 23.9/39.5 MB 4.0 MB/s eta 0:00:04\n",
      "   ------------------------ --------------- 24.6/39.5 MB 4.0 MB/s eta 0:00:04\n",
      "   -------------------------- ------------- 25.7/39.5 MB 4.0 MB/s eta 0:00:04\n",
      "   --------------------------- ------------ 26.7/39.5 MB 4.1 MB/s eta 0:00:04\n",
      "   --------------------------- ------------ 27.3/39.5 MB 4.0 MB/s eta 0:00:04\n",
      "   --------------------------- ------------ 27.3/39.5 MB 4.0 MB/s eta 0:00:04\n",
      "   ------------------------------ --------- 29.6/39.5 MB 4.1 MB/s eta 0:00:03\n",
      "   ------------------------------ --------- 29.6/39.5 MB 4.1 MB/s eta 0:00:03\n",
      "   ------------------------------ --------- 29.6/39.5 MB 4.1 MB/s eta 0:00:03\n",
      "   -------------------------------- ------- 32.0/39.5 MB 4.1 MB/s eta 0:00:02\n",
      "   -------------------------------- ------- 32.0/39.5 MB 4.1 MB/s eta 0:00:02\n",
      "   ----------------------------------- ---- 34.6/39.5 MB 4.1 MB/s eta 0:00:02\n",
      "   ----------------------------------- ---- 34.6/39.5 MB 4.1 MB/s eta 0:00:02\n",
      "   ------------------------------------ --- 36.4/39.5 MB 4.2 MB/s eta 0:00:01\n",
      "   ------------------------------------- -- 37.0/39.5 MB 4.1 MB/s eta 0:00:01\n",
      "   ------------------------------------- -- 37.5/39.5 MB 4.1 MB/s eta 0:00:01\n",
      "   -------------------------------------- - 37.7/39.5 MB 4.1 MB/s eta 0:00:01\n",
      "   -------------------------------------- - 37.7/39.5 MB 4.1 MB/s eta 0:00:01\n",
      "   ---------------------------------------  38.5/39.5 MB 3.9 MB/s eta 0:00:01\n",
      "   ---------------------------------------- 39.5/39.5 MB 3.9 MB/s eta 0:00:00\n",
      "Installing collected packages: opencv-python\n",
      "Successfully installed opencv-python-4.11.0.86\n",
      "\n"
     ]
    },
    {
     "name": "stderr",
     "output_type": "stream",
     "text": [
      "\n",
      "[notice] A new release of pip is available: 24.3.1 -> 25.1.1\n",
      "[notice] To update, run: python.exe -m pip install --upgrade pip\n"
     ]
    }
   ],
   "source": [
    "pip install opencv-python\n"
   ]
  },
  {
   "cell_type": "code",
   "execution_count": 27,
   "id": "ab839053-89fc-4e08-ae95-f7f89f50db49",
   "metadata": {},
   "outputs": [
    {
     "ename": "error",
     "evalue": "OpenCV(4.11.0) :-1: error: (-5:Bad argument) in function 'imshow'\n> Overload resolution failed:\n>  - imshow() missing required argument 'mat' (pos 2)\n>  - imshow() missing required argument 'mat' (pos 2)\n>  - imshow() missing required argument 'mat' (pos 2)\n",
     "output_type": "error",
     "traceback": [
      "\u001b[1;31m---------------------------------------------------------------------------\u001b[0m",
      "\u001b[1;31merror\u001b[0m                                     Traceback (most recent call last)",
      "Cell \u001b[1;32mIn[27], line 7\u001b[0m\n\u001b[0;32m      4\u001b[0m url \u001b[38;5;241m=\u001b[39m \u001b[38;5;124m\"\u001b[39m\u001b[38;5;124mhttps://media.hswstatic.com/eyJidWNrZXQiOiJjb250ZW50Lmhzd3N0YXRpYy5jb20iLCJrZXkiOiJnaWZcL2Rpc3RhbmNlLWZvcm11bGEuanBnIiwiZWRpdHMiOnsicmVzaXplIjp7IndpZHRoIjo4Mjh9fX0=\u001b[39m\u001b[38;5;124m\"\u001b[39m\n\u001b[0;32m      6\u001b[0m \u001b[38;5;66;03m# Show the image\u001b[39;00m\n\u001b[1;32m----> 7\u001b[0m cv2\u001b[38;5;241m.\u001b[39mimshow(url)\n",
      "\u001b[1;31merror\u001b[0m: OpenCV(4.11.0) :-1: error: (-5:Bad argument) in function 'imshow'\n> Overload resolution failed:\n>  - imshow() missing required argument 'mat' (pos 2)\n>  - imshow() missing required argument 'mat' (pos 2)\n>  - imshow() missing required argument 'mat' (pos 2)\n"
     ]
    }
   ],
   "source": [
    "import cv2\n",
    "from cv2 import imshow\n",
    "# Get image from URL\n",
    "img = \"https://media.hswstatic.com/eyJidWNrZXQiOiJjb250ZW50Lmhzd3N0YXRpYy5jb20iLCJrZXkiOiJnaWZcL2Rpc3RhbmNlLWZvcm11bGEuanBnIiwiZWRpdHMiOnsicmVzaXplIjp7IndpZHRoIjo4Mjh9fX0=\"\n",
    "\n",
    "# Show the image\n",
    "cv2.imshow(img)\n"
   ]
  },
  {
   "cell_type": "code",
   "execution_count": null,
   "id": "9ada911d-6bab-4aba-a453-a4dff097252c",
   "metadata": {},
   "outputs": [],
   "source": []
  },
  {
   "cell_type": "code",
   "execution_count": 8,
   "id": "01ae3c57-f226-4451-9139-a6e976cd3733",
   "metadata": {},
   "outputs": [
    {
     "name": "stdout",
     "output_type": "stream",
     "text": [
      "16.76305461424021\n"
     ]
    },
    {
     "data": {
      "text/plain": [
       "16.76305461424021"
      ]
     },
     "execution_count": 8,
     "metadata": {},
     "output_type": "execute_result"
    }
   ],
   "source": [
    "import numpy as np\n",
    "l1=[10,20]\n",
    "l2=[5,4]\n",
    "arr1=np.array(l1)\n",
    "arr2=np.array(l2)\n",
    "\n",
    "step1 = np.square(arr1-arr2)\n",
    "step2= np.sum(step1)\n",
    "step3=np.sqrt(step2)\n",
    "print(step3)\n",
    "np.sqrt(np.sum(np.square(arr1-arr2)))"
   ]
  },
  {
   "cell_type": "code",
   "execution_count": 10,
   "id": "19b1619c-ecd3-43ac-94d3-29e92eac0a05",
   "metadata": {},
   "outputs": [
    {
     "data": {
      "text/plain": [
       "16.76305461424021"
      ]
     },
     "execution_count": 10,
     "metadata": {},
     "output_type": "execute_result"
    }
   ],
   "source": [
    "import numpy as np\n",
    "np.linalg.norm(arr1-arr2)"
   ]
  },
  {
   "cell_type": "markdown",
   "id": "74285cdd-7cba-4336-b853-02f111c3bcea",
   "metadata": {},
   "source": [
    "===================EDA=================================\n",
    "1) pandas     : Data frame opeation\n",
    "2)numpy       : Math operations\n",
    "3)matplotlib  : plottinng or graphs\n",
    "4)seaborn      : plotting or graphs\n",
    "5)plotly       : plotting or graphs\n",
    "6)bokhe       : plotting or graphs\n",
    "===================ML==================================\n",
    "7) sickit-learn(sklearn) : For ALL ML algorithms\n",
    "8) stats                 : some stastiical operations\n",
    "9)MLlib                  : For All ML algorithms on Pyspark\n",
    "\n",
    "===================DL===================================\n",
    "9)Tensorflow             : Deep learning models (Google)\n",
    "10) keras                : Deep learning models tensorflow as backend\n",
    "11) pytorch              : Deep learning models(meta)\n",
    "12) opencv               : Image and video operations\n",
    "13)pillow                : Image operations\n",
    "\n",
    "==================Object Detection models (Transfer learning)\n",
    "14) Mobilenet            : Deep learning packages\n",
    "15)VGGnet                : Deep learning packages\n",
    "16) Resnet               : Deep learning packages\n",
    "17) Inceptionv3          : Deep learning packages\n",
    "18) YOLO                 : Deep learning packages\n",
    "\n",
    "================Natural Language Proess===============\n",
    "19) NLTK                 : Natural Language Tool Kit\n",
    "20) Spacy                : Alternative to NLTK\n",
    "21)Wordcloud             : Text representation\n",
    "\n",
    "===============NLP word Embedding Models===================\n",
    "22) Word2Vec              : Google\n",
    "23) Glove                 :  Stanford\n",
    "24) Fasttext              : Meta(Face book)\n",
    "\n",
    "=============ALLEN NLP (organization)============================\n",
    "25) NLP applications      :  Pyspark as Backend\n",
    "\n",
    "===================Optical Character Recognition(OCR)========================\n",
    "Extract the text from the image\n",
    "26) Tesseract\n",
    "27) easyocr\n",
    "\n",
    "=============================BERT============================\n",
    "BERT: Bi directional Encoded Representations from Transformers\n",
    "28) Transformers           : Hugging face (Google)\n",
    "\n",
    "============================WebScrapping=====================\n",
    "29) SQLITE                 : Connect the Databse using python\n",
    "30) Selenium               \n",
    "31)Beautiful Soup\n",
    "32)Regex\n",
    "\n",
    "================================GenAI and LLM=======================\n",
    "33) Langchain              : To connect all LLM models\n",
    "34) GPT                     : OpenAI\n",
    "35)Gemini                  : Google\n",
    "36)Llama                   : Meta\n",
    "37) Grok                   : XAi\n",
    "38)BedRock                 : Amazon\n",
    "39)Claude AI               : Anthropic\n",
    "\n",
    "============================Agentic AI=================================\n",
    "40) Langraph\n",
    "41)CrewAI\n",
    "42)Phidata\n",
    "43)Autogen\n",
    "\n",
    "===========================API creation=================================\n",
    "44) Flask\n",
    "45) FastAPI\n",
    "46) Gradio\n",
    "47)Django\n",
    "\n",
    "===========================WebApplication==================================\n",
    "48) Streamlit\n",
    "\n",
    "=============================Model deployment(MLops)=======================\n",
    "49) mlflow : DataBricks ETL\n",
    "50) Kubeflow\n",
    "\n",
    "==============================Cloud AI===========================\n",
    "51) Azure Cognitive Services\n",
    "52) Azure ML Studio\n",
    "53) GCP vertexAI\n",
    "54)AWS Sagemaker\n",
    "\n",
    "=============================Extra================================\n",
    "55) random\n",
    "56) time\n",
    "57) math\n",
    "58)logging\n",
    "59) warnings\n",
    "60) date\n"
   ]
  },
  {
   "cell_type": "markdown",
   "id": "001d1301-083e-411d-ba68-628b14629852",
   "metadata": {},
   "source": [
    "**step-1:Import packages**"
   ]
  },
  {
   "cell_type": "code",
   "execution_count": null,
   "id": "4690688e-9b99-4348-a6b8-2aa0149e9cc0",
   "metadata": {},
   "outputs": [],
   "source": []
  }
 ],
 "metadata": {
  "kernelspec": {
   "display_name": "Python [conda env:base] *",
   "language": "python",
   "name": "conda-base-py"
  },
  "language_info": {
   "codemirror_mode": {
    "name": "ipython",
    "version": 3
   },
   "file_extension": ".py",
   "mimetype": "text/x-python",
   "name": "python",
   "nbconvert_exporter": "python",
   "pygments_lexer": "ipython3",
   "version": "3.12.7"
  }
 },
 "nbformat": 4,
 "nbformat_minor": 5
}
