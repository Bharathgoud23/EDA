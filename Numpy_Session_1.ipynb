{
 "cells": [
  {
   "cell_type": "markdown",
   "id": "3a3fe3b7-11bc-4e48-99b4-fc04538e012e",
   "metadata": {},
   "source": [
    "- Package name : Numpy\n",
    "\n",
    "- Numpy means numerical python\n",
    "\n",
    "- It is siilar to math package\n",
    "\n",
    "- It completely fcuses on Math operations\n",
    "\n",
    "    -mean, median, mode, variance, covariance etc\n",
    "\n",
    "    - Distance btw two points\n",
    "\n",
    "    - Linear algebra\n",
    "\n",
    "    - Matrix ooperations etc.\n",
    "\n",
    "- When it comes storing a numbers\n",
    "\n",
    "    - List and tuples\n",
    "\n",
    "    - array : numpy\n",
    "\n",
    "    - tensors : tensorflow or pytorch\n",
    " \n",
    "  "
   ]
  },
  {
   "cell_type": "markdown",
   "id": "07974b9b-7775-453a-989c-6350c3eab570",
   "metadata": {},
   "source": [
    "**use case-1**"
   ]
  },
  {
   "cell_type": "code",
   "execution_count": 8,
   "id": "cbd2ee1b-5e5e-49b8-9ff1-2770ee9d611b",
   "metadata": {},
   "outputs": [
    {
     "data": {
      "text/plain": [
       "[11, 22, 33, 44]"
      ]
     },
     "execution_count": 8,
     "metadata": {},
     "output_type": "execute_result"
    }
   ],
   "source": [
    "l1=[10,20,30,40]\n",
    "l2=[1,2,3,4]\n",
    "l=[]\n",
    "for i,j in zip(l1,l2):\n",
    "    l.append(i+j)\n",
    "l"
   ]
  },
  {
   "cell_type": "code",
   "execution_count": 10,
   "id": "d9944d75-78d5-40f2-b699-8030bfcbba31",
   "metadata": {},
   "outputs": [
    {
     "data": {
      "text/plain": [
       "[11, 22, 33, 44]"
      ]
     },
     "execution_count": 10,
     "metadata": {},
     "output_type": "execute_result"
    }
   ],
   "source": [
    "l=[i+j for i,j in zip(l1,l2)]\n",
    "l"
   ]
  },
  {
   "cell_type": "code",
   "execution_count": 12,
   "id": "e42f5578-133a-48fb-81ef-a586f8bdacf5",
   "metadata": {},
   "outputs": [
    {
     "data": {
      "text/plain": [
       "array([10, 20, 30, 40])"
      ]
     },
     "execution_count": 12,
     "metadata": {},
     "output_type": "execute_result"
    }
   ],
   "source": [
    "import numpy as np\n",
    "l1=[10,20,30,40]\n",
    "arr1= np.array(l1)\n",
    "arr1"
   ]
  },
  {
   "cell_type": "code",
   "execution_count": 14,
   "id": "7fcd74f3-8d56-4458-b028-69c0c5c3d007",
   "metadata": {},
   "outputs": [
    {
     "data": {
      "text/plain": [
       "(list, numpy.ndarray)"
      ]
     },
     "execution_count": 14,
     "metadata": {},
     "output_type": "execute_result"
    }
   ],
   "source": [
    "type(l1),type(arr1)"
   ]
  },
  {
   "cell_type": "code",
   "execution_count": 16,
   "id": "aaa66c97-8eb4-48c4-b4f8-6e03f1606dbe",
   "metadata": {},
   "outputs": [
    {
     "data": {
      "text/plain": [
       "array([1, 2, 3, 4])"
      ]
     },
     "execution_count": 16,
     "metadata": {},
     "output_type": "execute_result"
    }
   ],
   "source": [
    "l2=[1,2,3,4]\n",
    "arr2= np.array(l2)\n",
    "arr2"
   ]
  },
  {
   "cell_type": "code",
   "execution_count": 18,
   "id": "67633484-f209-40c0-bde3-f317c3bb46e2",
   "metadata": {},
   "outputs": [
    {
     "data": {
      "text/plain": [
       "(list, numpy.ndarray)"
      ]
     },
     "execution_count": 18,
     "metadata": {},
     "output_type": "execute_result"
    }
   ],
   "source": [
    "type(l2),type(arr2)"
   ]
  },
  {
   "cell_type": "code",
   "execution_count": 20,
   "id": "beb38544-9186-40cc-a05a-193b6d09daa4",
   "metadata": {},
   "outputs": [
    {
     "ename": "TypeError",
     "evalue": "can't multiply sequence by non-int of type 'list'",
     "output_type": "error",
     "traceback": [
      "\u001b[1;31m---------------------------------------------------------------------------\u001b[0m",
      "\u001b[1;31mTypeError\u001b[0m                                 Traceback (most recent call last)",
      "Cell \u001b[1;32mIn[20], line 1\u001b[0m\n\u001b[1;32m----> 1\u001b[0m l1\u001b[38;5;241m*\u001b[39ml2\n",
      "\u001b[1;31mTypeError\u001b[0m: can't multiply sequence by non-int of type 'list'"
     ]
    }
   ],
   "source": [
    "l1*l2 # error"
   ]
  },
  {
   "cell_type": "code",
   "execution_count": 22,
   "id": "2f6ed427-8a8f-4016-a5b1-85048bfd7199",
   "metadata": {},
   "outputs": [
    {
     "name": "stdout",
     "output_type": "stream",
     "text": [
      "[10 20 30 40]\n",
      "[1 2 3 4]\n",
      "[11 22 33 44]\n",
      "[ 9 18 27 36]\n",
      "[ 10  40  90 160]\n",
      "[10. 10. 10. 10.]\n"
     ]
    }
   ],
   "source": [
    "print(arr1)\n",
    "print(arr2)\n",
    "print(arr1+arr2)\n",
    "print(arr1-arr2)\n",
    "print(arr1*arr2)\n",
    "print(arr1/arr2)\n"
   ]
  },
  {
   "cell_type": "markdown",
   "id": "a0c30232-6c45-4df8-9aa7-5256c4dce63c",
   "metadata": {},
   "source": [
    "**use case 2**"
   ]
  },
  {
   "cell_type": "code",
   "execution_count": 33,
   "id": "6bedd1b7-afe9-49c7-b8b6-bb9c182e41e3",
   "metadata": {},
   "outputs": [
    {
     "name": "stdout",
     "output_type": "stream",
     "text": [
      "total time taken is: 68.15916609764099\n"
     ]
    }
   ],
   "source": [
    "import time\n",
    "start=time.time()\n",
    "l1=list(range(1,100000000))\n",
    "l2=list(range(1,100000000))\n",
    "mul=[i*j for i,j in zip(l1,l2)]\n",
    "end=time.time()\n",
    "print(\"total time taken is:\",(end-start))"
   ]
  },
  {
   "cell_type": "code",
   "execution_count": 37,
   "id": "e1f98f9e-8320-4247-9c1c-a056eaa00bb1",
   "metadata": {},
   "outputs": [
    {
     "name": "stdout",
     "output_type": "stream",
     "text": [
      "total time taken is: 0.4947242736816406\n"
     ]
    }
   ],
   "source": [
    "import time\n",
    "import numpy as np\n",
    "start=time.time()\n",
    "arr1= np.arange(1,100000000)\n",
    "arr2= np.arange(1,100000000)\n",
    "mul=arr1*arr2\n",
    "end=time.time()\n",
    "print(\"total time taken is:\",(end-start))"
   ]
  },
  {
   "cell_type": "code",
   "execution_count": null,
   "id": "72dbc3c4-c26d-4e28-91fd-afbf87de4f2f",
   "metadata": {},
   "outputs": [],
   "source": []
  }
 ],
 "metadata": {
  "kernelspec": {
   "display_name": "Python [conda env:base] *",
   "language": "python",
   "name": "conda-base-py"
  },
  "language_info": {
   "codemirror_mode": {
    "name": "ipython",
    "version": 3
   },
   "file_extension": ".py",
   "mimetype": "text/x-python",
   "name": "python",
   "nbconvert_exporter": "python",
   "pygments_lexer": "ipython3",
   "version": "3.12.7"
  }
 },
 "nbformat": 4,
 "nbformat_minor": 5
}
